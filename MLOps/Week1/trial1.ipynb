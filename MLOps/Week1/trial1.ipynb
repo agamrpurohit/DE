{
 "cells": [
  {
   "cell_type": "code",
   "execution_count": 1,
   "id": "6ef5e183",
   "metadata": {},
   "outputs": [
    {
     "name": "stdout",
     "output_type": "stream",
     "text": [
      "Hello\n"
     ]
    }
   ],
   "source": [
    "print(\"Hello\")"
   ]
  },
  {
   "cell_type": "code",
   "execution_count": 2,
   "id": "08d76f44",
   "metadata": {},
   "outputs": [
    {
     "name": "stdout",
     "output_type": "stream",
     "text": [
      "Collecting pyarrow\n",
      "  Downloading pyarrow-20.0.0-cp312-cp312-manylinux_2_28_x86_64.whl.metadata (3.3 kB)\n",
      "Downloading pyarrow-20.0.0-cp312-cp312-manylinux_2_28_x86_64.whl (42.3 MB)\n",
      "\u001b[2K   \u001b[90m━━━━━━━━━━━━━━━━━━━━━━━━━━━━━━━━━━━━━━━━\u001b[0m \u001b[32m42.3/42.3 MB\u001b[0m \u001b[31m37.0 MB/s\u001b[0m eta \u001b[36m0:00:00\u001b[0m:00:01\u001b[0m\n",
      "\u001b[?25hInstalling collected packages: pyarrow\n",
      "Successfully installed pyarrow-20.0.0\n",
      "\n",
      "\u001b[1m[\u001b[0m\u001b[34;49mnotice\u001b[0m\u001b[1;39;49m]\u001b[0m\u001b[39;49m A new release of pip is available: \u001b[0m\u001b[31;49m25.0.1\u001b[0m\u001b[39;49m -> \u001b[0m\u001b[32;49m25.1.1\u001b[0m\n",
      "\u001b[1m[\u001b[0m\u001b[34;49mnotice\u001b[0m\u001b[1;39;49m]\u001b[0m\u001b[39;49m To update, run: \u001b[0m\u001b[32;49mpython3 -m pip install --upgrade pip\u001b[0m\n"
     ]
    }
   ],
   "source": [
    "! pip install pyarrow"
   ]
  },
  {
   "cell_type": "code",
   "execution_count": 1,
   "id": "e7df154f",
   "metadata": {},
   "outputs": [
    {
     "name": "stdout",
     "output_type": "stream",
     "text": [
      "(3066766, 19)\n",
      "Index(['VendorID', 'tpep_pickup_datetime', 'tpep_dropoff_datetime',\n",
      "       'passenger_count', 'trip_distance', 'RatecodeID', 'store_and_fwd_flag',\n",
      "       'PULocationID', 'DOLocationID', 'payment_type', 'fare_amount', 'extra',\n",
      "       'mta_tax', 'tip_amount', 'tolls_amount', 'improvement_surcharge',\n",
      "       'total_amount', 'congestion_surcharge', 'airport_fee'],\n",
      "      dtype='object')\n"
     ]
    }
   ],
   "source": [
    "# Reading a parquet file\n",
    "import pandas as pd\n",
    "import pyarrow.parquet as pq\n",
    "import pyarrow as pa\n",
    "\n",
    "taxi_df = pd.read_parquet(r'https://d37ci6vzurychx.cloudfront.net/trip-data/yellow_tripdata_2023-01.parquet')\n",
    "\n",
    "# 1. Total Column\n",
    "print(taxi_df.shape)\n",
    "# Column names\n",
    "print(taxi_df.columns)"
   ]
  },
  {
   "cell_type": "code",
   "execution_count": 2,
   "id": "e2cf2420",
   "metadata": {},
   "outputs": [
    {
     "data": {
      "application/vnd.microsoft.datawrangler.viewer.v0+json": {
       "columns": [
        {
         "name": "index",
         "rawType": "int64",
         "type": "integer"
        },
        {
         "name": "VendorID",
         "rawType": "int64",
         "type": "integer"
        },
        {
         "name": "tpep_pickup_datetime",
         "rawType": "datetime64[us]",
         "type": "unknown"
        },
        {
         "name": "tpep_dropoff_datetime",
         "rawType": "datetime64[us]",
         "type": "unknown"
        },
        {
         "name": "passenger_count",
         "rawType": "float64",
         "type": "float"
        },
        {
         "name": "trip_distance",
         "rawType": "float64",
         "type": "float"
        },
        {
         "name": "RatecodeID",
         "rawType": "float64",
         "type": "float"
        },
        {
         "name": "store_and_fwd_flag",
         "rawType": "object",
         "type": "string"
        },
        {
         "name": "PULocationID",
         "rawType": "int64",
         "type": "integer"
        },
        {
         "name": "DOLocationID",
         "rawType": "int64",
         "type": "integer"
        },
        {
         "name": "payment_type",
         "rawType": "int64",
         "type": "integer"
        },
        {
         "name": "fare_amount",
         "rawType": "float64",
         "type": "float"
        },
        {
         "name": "extra",
         "rawType": "float64",
         "type": "float"
        },
        {
         "name": "mta_tax",
         "rawType": "float64",
         "type": "float"
        },
        {
         "name": "tip_amount",
         "rawType": "float64",
         "type": "float"
        },
        {
         "name": "tolls_amount",
         "rawType": "float64",
         "type": "float"
        },
        {
         "name": "improvement_surcharge",
         "rawType": "float64",
         "type": "float"
        },
        {
         "name": "total_amount",
         "rawType": "float64",
         "type": "float"
        },
        {
         "name": "congestion_surcharge",
         "rawType": "float64",
         "type": "float"
        },
        {
         "name": "airport_fee",
         "rawType": "float64",
         "type": "float"
        },
        {
         "name": "duration",
         "rawType": "timedelta64[us]",
         "type": "unknown"
        }
       ],
       "conversionMethod": "pd.DataFrame",
       "ref": "509362b0-4b11-43fe-bf90-de32b94b0dae",
       "rows": [
        [
         "0",
         "2",
         "2023-01-01 00:32:10",
         "2023-01-01 00:40:36",
         "1.0",
         "0.97",
         "1.0",
         "N",
         "161",
         "141",
         "2",
         "9.3",
         "1.0",
         "0.5",
         "0.0",
         "0.0",
         "1.0",
         "14.3",
         "2.5",
         "0.0",
         "0 days 00:08:26"
        ],
        [
         "1",
         "2",
         "2023-01-01 00:55:08",
         "2023-01-01 01:01:27",
         "1.0",
         "1.1",
         "1.0",
         "N",
         "43",
         "237",
         "1",
         "7.9",
         "1.0",
         "0.5",
         "4.0",
         "0.0",
         "1.0",
         "16.9",
         "2.5",
         "0.0",
         "0 days 00:06:19"
        ],
        [
         "2",
         "2",
         "2023-01-01 00:25:04",
         "2023-01-01 00:37:49",
         "1.0",
         "2.51",
         "1.0",
         "N",
         "48",
         "238",
         "1",
         "14.9",
         "1.0",
         "0.5",
         "15.0",
         "0.0",
         "1.0",
         "34.9",
         "2.5",
         "0.0",
         "0 days 00:12:45"
        ],
        [
         "3",
         "1",
         "2023-01-01 00:03:48",
         "2023-01-01 00:13:25",
         "0.0",
         "1.9",
         "1.0",
         "N",
         "138",
         "7",
         "1",
         "12.1",
         "7.25",
         "0.5",
         "0.0",
         "0.0",
         "1.0",
         "20.85",
         "0.0",
         "1.25",
         "0 days 00:09:37"
        ],
        [
         "4",
         "2",
         "2023-01-01 00:10:29",
         "2023-01-01 00:21:19",
         "1.0",
         "1.43",
         "1.0",
         "N",
         "107",
         "79",
         "1",
         "11.4",
         "1.0",
         "0.5",
         "3.28",
         "0.0",
         "1.0",
         "19.68",
         "2.5",
         "0.0",
         "0 days 00:10:50"
        ]
       ],
       "shape": {
        "columns": 20,
        "rows": 5
       }
      },
      "text/html": [
       "<div>\n",
       "<style scoped>\n",
       "    .dataframe tbody tr th:only-of-type {\n",
       "        vertical-align: middle;\n",
       "    }\n",
       "\n",
       "    .dataframe tbody tr th {\n",
       "        vertical-align: top;\n",
       "    }\n",
       "\n",
       "    .dataframe thead th {\n",
       "        text-align: right;\n",
       "    }\n",
       "</style>\n",
       "<table border=\"1\" class=\"dataframe\">\n",
       "  <thead>\n",
       "    <tr style=\"text-align: right;\">\n",
       "      <th></th>\n",
       "      <th>VendorID</th>\n",
       "      <th>tpep_pickup_datetime</th>\n",
       "      <th>tpep_dropoff_datetime</th>\n",
       "      <th>passenger_count</th>\n",
       "      <th>trip_distance</th>\n",
       "      <th>RatecodeID</th>\n",
       "      <th>store_and_fwd_flag</th>\n",
       "      <th>PULocationID</th>\n",
       "      <th>DOLocationID</th>\n",
       "      <th>payment_type</th>\n",
       "      <th>fare_amount</th>\n",
       "      <th>extra</th>\n",
       "      <th>mta_tax</th>\n",
       "      <th>tip_amount</th>\n",
       "      <th>tolls_amount</th>\n",
       "      <th>improvement_surcharge</th>\n",
       "      <th>total_amount</th>\n",
       "      <th>congestion_surcharge</th>\n",
       "      <th>airport_fee</th>\n",
       "      <th>duration</th>\n",
       "    </tr>\n",
       "  </thead>\n",
       "  <tbody>\n",
       "    <tr>\n",
       "      <th>0</th>\n",
       "      <td>2</td>\n",
       "      <td>2023-01-01 00:32:10</td>\n",
       "      <td>2023-01-01 00:40:36</td>\n",
       "      <td>1.0</td>\n",
       "      <td>0.97</td>\n",
       "      <td>1.0</td>\n",
       "      <td>N</td>\n",
       "      <td>161</td>\n",
       "      <td>141</td>\n",
       "      <td>2</td>\n",
       "      <td>9.3</td>\n",
       "      <td>1.00</td>\n",
       "      <td>0.5</td>\n",
       "      <td>0.00</td>\n",
       "      <td>0.0</td>\n",
       "      <td>1.0</td>\n",
       "      <td>14.30</td>\n",
       "      <td>2.5</td>\n",
       "      <td>0.00</td>\n",
       "      <td>0 days 00:08:26</td>\n",
       "    </tr>\n",
       "    <tr>\n",
       "      <th>1</th>\n",
       "      <td>2</td>\n",
       "      <td>2023-01-01 00:55:08</td>\n",
       "      <td>2023-01-01 01:01:27</td>\n",
       "      <td>1.0</td>\n",
       "      <td>1.10</td>\n",
       "      <td>1.0</td>\n",
       "      <td>N</td>\n",
       "      <td>43</td>\n",
       "      <td>237</td>\n",
       "      <td>1</td>\n",
       "      <td>7.9</td>\n",
       "      <td>1.00</td>\n",
       "      <td>0.5</td>\n",
       "      <td>4.00</td>\n",
       "      <td>0.0</td>\n",
       "      <td>1.0</td>\n",
       "      <td>16.90</td>\n",
       "      <td>2.5</td>\n",
       "      <td>0.00</td>\n",
       "      <td>0 days 00:06:19</td>\n",
       "    </tr>\n",
       "    <tr>\n",
       "      <th>2</th>\n",
       "      <td>2</td>\n",
       "      <td>2023-01-01 00:25:04</td>\n",
       "      <td>2023-01-01 00:37:49</td>\n",
       "      <td>1.0</td>\n",
       "      <td>2.51</td>\n",
       "      <td>1.0</td>\n",
       "      <td>N</td>\n",
       "      <td>48</td>\n",
       "      <td>238</td>\n",
       "      <td>1</td>\n",
       "      <td>14.9</td>\n",
       "      <td>1.00</td>\n",
       "      <td>0.5</td>\n",
       "      <td>15.00</td>\n",
       "      <td>0.0</td>\n",
       "      <td>1.0</td>\n",
       "      <td>34.90</td>\n",
       "      <td>2.5</td>\n",
       "      <td>0.00</td>\n",
       "      <td>0 days 00:12:45</td>\n",
       "    </tr>\n",
       "    <tr>\n",
       "      <th>3</th>\n",
       "      <td>1</td>\n",
       "      <td>2023-01-01 00:03:48</td>\n",
       "      <td>2023-01-01 00:13:25</td>\n",
       "      <td>0.0</td>\n",
       "      <td>1.90</td>\n",
       "      <td>1.0</td>\n",
       "      <td>N</td>\n",
       "      <td>138</td>\n",
       "      <td>7</td>\n",
       "      <td>1</td>\n",
       "      <td>12.1</td>\n",
       "      <td>7.25</td>\n",
       "      <td>0.5</td>\n",
       "      <td>0.00</td>\n",
       "      <td>0.0</td>\n",
       "      <td>1.0</td>\n",
       "      <td>20.85</td>\n",
       "      <td>0.0</td>\n",
       "      <td>1.25</td>\n",
       "      <td>0 days 00:09:37</td>\n",
       "    </tr>\n",
       "    <tr>\n",
       "      <th>4</th>\n",
       "      <td>2</td>\n",
       "      <td>2023-01-01 00:10:29</td>\n",
       "      <td>2023-01-01 00:21:19</td>\n",
       "      <td>1.0</td>\n",
       "      <td>1.43</td>\n",
       "      <td>1.0</td>\n",
       "      <td>N</td>\n",
       "      <td>107</td>\n",
       "      <td>79</td>\n",
       "      <td>1</td>\n",
       "      <td>11.4</td>\n",
       "      <td>1.00</td>\n",
       "      <td>0.5</td>\n",
       "      <td>3.28</td>\n",
       "      <td>0.0</td>\n",
       "      <td>1.0</td>\n",
       "      <td>19.68</td>\n",
       "      <td>2.5</td>\n",
       "      <td>0.00</td>\n",
       "      <td>0 days 00:10:50</td>\n",
       "    </tr>\n",
       "  </tbody>\n",
       "</table>\n",
       "</div>"
      ],
      "text/plain": [
       "   VendorID tpep_pickup_datetime tpep_dropoff_datetime  passenger_count  \\\n",
       "0         2  2023-01-01 00:32:10   2023-01-01 00:40:36              1.0   \n",
       "1         2  2023-01-01 00:55:08   2023-01-01 01:01:27              1.0   \n",
       "2         2  2023-01-01 00:25:04   2023-01-01 00:37:49              1.0   \n",
       "3         1  2023-01-01 00:03:48   2023-01-01 00:13:25              0.0   \n",
       "4         2  2023-01-01 00:10:29   2023-01-01 00:21:19              1.0   \n",
       "\n",
       "   trip_distance  RatecodeID store_and_fwd_flag  PULocationID  DOLocationID  \\\n",
       "0           0.97         1.0                  N           161           141   \n",
       "1           1.10         1.0                  N            43           237   \n",
       "2           2.51         1.0                  N            48           238   \n",
       "3           1.90         1.0                  N           138             7   \n",
       "4           1.43         1.0                  N           107            79   \n",
       "\n",
       "   payment_type  fare_amount  extra  mta_tax  tip_amount  tolls_amount  \\\n",
       "0             2          9.3   1.00      0.5        0.00           0.0   \n",
       "1             1          7.9   1.00      0.5        4.00           0.0   \n",
       "2             1         14.9   1.00      0.5       15.00           0.0   \n",
       "3             1         12.1   7.25      0.5        0.00           0.0   \n",
       "4             1         11.4   1.00      0.5        3.28           0.0   \n",
       "\n",
       "   improvement_surcharge  total_amount  congestion_surcharge  airport_fee  \\\n",
       "0                    1.0         14.30                   2.5         0.00   \n",
       "1                    1.0         16.90                   2.5         0.00   \n",
       "2                    1.0         34.90                   2.5         0.00   \n",
       "3                    1.0         20.85                   0.0         1.25   \n",
       "4                    1.0         19.68                   2.5         0.00   \n",
       "\n",
       "         duration  \n",
       "0 0 days 00:08:26  \n",
       "1 0 days 00:06:19  \n",
       "2 0 days 00:12:45  \n",
       "3 0 days 00:09:37  \n",
       "4 0 days 00:10:50  "
      ]
     },
     "metadata": {},
     "output_type": "display_data"
    },
    {
     "name": "stdout",
     "output_type": "stream",
     "text": [
      "42.594351241954534\n"
     ]
    }
   ],
   "source": [
    "# Calculating duration in minutes\n",
    "# Converting to datetime\n",
    "taxi_df['duration'] = taxi_df['tpep_dropoff_datetime'] - taxi_df['tpep_pickup_datetime']\n",
    "display(taxi_df.head())\n",
    "\n",
    "print(taxi_df['duration'].dt.total_seconds().std() / 60)\n"
   ]
  },
  {
   "cell_type": "markdown",
   "id": "bacbaac1",
   "metadata": {},
   "source": [
    "- OneHotEncode VS pd.get_dummies vs DictVectorizer (Easier to deploy for MLOps)\n",
    "- https://github.com/fonsecagabriella/data_science/blob/main/00_general_notes/encoding_summary.ipynb"
   ]
  },
  {
   "cell_type": "code",
   "execution_count": 3,
   "id": "4d027091",
   "metadata": {},
   "outputs": [
    {
     "name": "stdout",
     "output_type": "stream",
     "text": [
      "3008849\n",
      "3066766\n",
      "98.11146334607858\n"
     ]
    }
   ],
   "source": [
    "# Looking for outliers in duration and keeping only the rows with duration less than 60 minutes and greater than 1 minute\n",
    "taxi_df_new = taxi_df.copy()\n",
    "\n",
    "taxi_df_new = taxi_df_new[(taxi_df['duration'].dt.total_seconds() / 60 < 60) & (taxi_df_new['duration'].dt.total_seconds() / 60 > 1)]\n",
    "\n",
    "# 3. Fraction of the rows that are kept\n",
    "print(taxi_df_new.shape[0])\n",
    "print(taxi_df.shape[0])\n",
    "print((taxi_df_new .shape[0] / taxi_df.shape[0]) * 100)"
   ]
  },
  {
   "cell_type": "code",
   "execution_count": 4,
   "id": "228c1dee",
   "metadata": {},
   "outputs": [],
   "source": [
    "# One hot encoding on pickup and dropoff locations IDs.\n",
    "# Turning the dataframe into a list of dictionaries and re-casting the IDs to strings\n",
    "taxi_df_new['PULocationID'] = taxi_df_new['PULocationID'].astype(str)\n",
    "taxi_df_new['DOLocationID'] = taxi_df_new['DOLocationID'].astype(str)\n",
    "\n",
    "# Fitting a dictionary vectorizer to the pickup and dropoff location IDs\n",
    "from sklearn.feature_extraction import DictVectorizer\n",
    "from sklearn.linear_model import LinearRegression\n",
    "\n",
    "# The DictVectorizer is a transformer that converts categorical variables into a one-hot encoded matrix\n",
    "# It takes a list of dictionaries as input and converts it into a matrix of 0s and 1s\n",
    "# The matrix is sparse by default, meaning that it only stores the non-zero values and their indices\n",
    "# This is useful for large datasets with many categorical variables\n",
    "# It is also useful for datasets with many missing values, as it only stores the non-missing values\n",
    "# It is less useful for small datasets with few categorical variables, as it can lead to a large number of columns\n",
    "\n",
    "\n",
    "dv = DictVectorizer(sparse=True) # Sparse=False to get a dense matrix\n",
    "\n",
    "# Feature matrix\n",
    "# The feature matrix is a matrix of dictionaries, where each dictionary represents a row in the dataframe\n",
    "# The keys of the dictionary are the column names and the values are the values in that row\n",
    "# The target variable is the duration in minutes\n",
    "X = dv.fit_transform(taxi_df_new[['PULocationID', 'DOLocationID']].to_dict(orient='records')) # to_dict(orient='records') converts the dataframe to a list of dictionaries, orint='records' means that each dictionary is a row in the dataframe. Orient='columns' means that each dictionary is a column in the dataframe. This is beneficial for the DictVectorizer because it expects a list of dictionaries as input.\n",
    "y = taxi_df_new['duration'].dt.total_seconds() / 60"
   ]
  },
  {
   "cell_type": "code",
   "execution_count": null,
   "id": "b6f9de6d",
   "metadata": {},
   "outputs": [
    {
     "name": "stdout",
     "output_type": "stream",
     "text": [
      "(3008849, 515)\n"
     ]
    }
   ],
   "source": [
    "# 4. Dimensions of the feature matrix\n",
    "print(X.shape)"
   ]
  },
  {
   "cell_type": "code",
   "execution_count": null,
   "id": "a0ff8028",
   "metadata": {},
   "outputs": [
    {
     "name": "stdout",
     "output_type": "stream",
     "text": [
      "7.6475120377560195\n"
     ]
    }
   ],
   "source": [
    "# Training a Linear Regression model with default parameters using the feature matrix and duration in minutes as the target/response variable\n",
    "model = LinearRegression()\n",
    "model.fit(X, y)\n",
    "\n",
    "# 5. RMSE of the model\n",
    "from sklearn.metrics import mean_squared_error\n",
    "import numpy as np\n",
    "y_pred = model.predict(X)\n",
    "rmse = np.sqrt(mean_squared_error(y, y_pred))\n",
    "print(rmse)\n",
    "# RMSE is the root mean squared error, which is a measure of how well the model fits the data for the training set\n",
    "# The RMSE is calculated as the square root of the mean of the squared differences between the predicted and actual values"
   ]
  },
  {
   "cell_type": "code",
   "execution_count": 7,
   "id": "cda638d7",
   "metadata": {},
   "outputs": [
    {
     "data": {
      "application/vnd.microsoft.datawrangler.viewer.v0+json": {
       "columns": [
        {
         "name": "index",
         "rawType": "int64",
         "type": "integer"
        },
        {
         "name": "VendorID",
         "rawType": "int32",
         "type": "integer"
        },
        {
         "name": "tpep_pickup_datetime",
         "rawType": "datetime64[us]",
         "type": "unknown"
        },
        {
         "name": "tpep_dropoff_datetime",
         "rawType": "datetime64[us]",
         "type": "unknown"
        },
        {
         "name": "passenger_count",
         "rawType": "float64",
         "type": "float"
        },
        {
         "name": "trip_distance",
         "rawType": "float64",
         "type": "float"
        },
        {
         "name": "RatecodeID",
         "rawType": "float64",
         "type": "float"
        },
        {
         "name": "store_and_fwd_flag",
         "rawType": "object",
         "type": "string"
        },
        {
         "name": "PULocationID",
         "rawType": "int32",
         "type": "integer"
        },
        {
         "name": "DOLocationID",
         "rawType": "int32",
         "type": "integer"
        },
        {
         "name": "payment_type",
         "rawType": "int64",
         "type": "integer"
        },
        {
         "name": "fare_amount",
         "rawType": "float64",
         "type": "float"
        },
        {
         "name": "extra",
         "rawType": "float64",
         "type": "float"
        },
        {
         "name": "mta_tax",
         "rawType": "float64",
         "type": "float"
        },
        {
         "name": "tip_amount",
         "rawType": "float64",
         "type": "float"
        },
        {
         "name": "tolls_amount",
         "rawType": "float64",
         "type": "float"
        },
        {
         "name": "improvement_surcharge",
         "rawType": "float64",
         "type": "float"
        },
        {
         "name": "total_amount",
         "rawType": "float64",
         "type": "float"
        },
        {
         "name": "congestion_surcharge",
         "rawType": "float64",
         "type": "float"
        },
        {
         "name": "Airport_fee",
         "rawType": "float64",
         "type": "float"
        }
       ],
       "conversionMethod": "pd.DataFrame",
       "ref": "6e5b355e-6d03-4e9f-99a9-63511330b7dd",
       "rows": [
        [
         "0",
         "1",
         "2023-02-01 00:32:53",
         "2023-02-01 00:34:34",
         "2.0",
         "0.3",
         "1.0",
         "N",
         "142",
         "163",
         "2",
         "4.4",
         "3.5",
         "0.5",
         "0.0",
         "0.0",
         "1.0",
         "9.4",
         "2.5",
         "0.0"
        ],
        [
         "1",
         "2",
         "2023-02-01 00:35:16",
         "2023-02-01 00:35:30",
         "1.0",
         "0.0",
         "1.0",
         "N",
         "71",
         "71",
         "4",
         "-3.0",
         "-1.0",
         "-0.5",
         "0.0",
         "0.0",
         "-1.0",
         "-5.5",
         "0.0",
         "0.0"
        ],
        [
         "2",
         "2",
         "2023-02-01 00:35:16",
         "2023-02-01 00:35:30",
         "1.0",
         "0.0",
         "1.0",
         "N",
         "71",
         "71",
         "4",
         "3.0",
         "1.0",
         "0.5",
         "0.0",
         "0.0",
         "1.0",
         "5.5",
         "0.0",
         "0.0"
        ],
        [
         "3",
         "1",
         "2023-02-01 00:29:33",
         "2023-02-01 01:01:38",
         "0.0",
         "18.8",
         "1.0",
         "N",
         "132",
         "26",
         "1",
         "70.9",
         "2.25",
         "0.5",
         "0.0",
         "0.0",
         "1.0",
         "74.65",
         "0.0",
         "1.25"
        ],
        [
         "4",
         "2",
         "2023-02-01 00:12:28",
         "2023-02-01 00:25:46",
         "1.0",
         "3.22",
         "1.0",
         "N",
         "161",
         "145",
         "1",
         "17.0",
         "1.0",
         "0.5",
         "3.3",
         "0.0",
         "1.0",
         "25.3",
         "2.5",
         "0.0"
        ]
       ],
       "shape": {
        "columns": 19,
        "rows": 5
       }
      },
      "text/html": [
       "<div>\n",
       "<style scoped>\n",
       "    .dataframe tbody tr th:only-of-type {\n",
       "        vertical-align: middle;\n",
       "    }\n",
       "\n",
       "    .dataframe tbody tr th {\n",
       "        vertical-align: top;\n",
       "    }\n",
       "\n",
       "    .dataframe thead th {\n",
       "        text-align: right;\n",
       "    }\n",
       "</style>\n",
       "<table border=\"1\" class=\"dataframe\">\n",
       "  <thead>\n",
       "    <tr style=\"text-align: right;\">\n",
       "      <th></th>\n",
       "      <th>VendorID</th>\n",
       "      <th>tpep_pickup_datetime</th>\n",
       "      <th>tpep_dropoff_datetime</th>\n",
       "      <th>passenger_count</th>\n",
       "      <th>trip_distance</th>\n",
       "      <th>RatecodeID</th>\n",
       "      <th>store_and_fwd_flag</th>\n",
       "      <th>PULocationID</th>\n",
       "      <th>DOLocationID</th>\n",
       "      <th>payment_type</th>\n",
       "      <th>fare_amount</th>\n",
       "      <th>extra</th>\n",
       "      <th>mta_tax</th>\n",
       "      <th>tip_amount</th>\n",
       "      <th>tolls_amount</th>\n",
       "      <th>improvement_surcharge</th>\n",
       "      <th>total_amount</th>\n",
       "      <th>congestion_surcharge</th>\n",
       "      <th>Airport_fee</th>\n",
       "    </tr>\n",
       "  </thead>\n",
       "  <tbody>\n",
       "    <tr>\n",
       "      <th>0</th>\n",
       "      <td>1</td>\n",
       "      <td>2023-02-01 00:32:53</td>\n",
       "      <td>2023-02-01 00:34:34</td>\n",
       "      <td>2.0</td>\n",
       "      <td>0.30</td>\n",
       "      <td>1.0</td>\n",
       "      <td>N</td>\n",
       "      <td>142</td>\n",
       "      <td>163</td>\n",
       "      <td>2</td>\n",
       "      <td>4.4</td>\n",
       "      <td>3.50</td>\n",
       "      <td>0.5</td>\n",
       "      <td>0.0</td>\n",
       "      <td>0.0</td>\n",
       "      <td>1.0</td>\n",
       "      <td>9.40</td>\n",
       "      <td>2.5</td>\n",
       "      <td>0.00</td>\n",
       "    </tr>\n",
       "    <tr>\n",
       "      <th>1</th>\n",
       "      <td>2</td>\n",
       "      <td>2023-02-01 00:35:16</td>\n",
       "      <td>2023-02-01 00:35:30</td>\n",
       "      <td>1.0</td>\n",
       "      <td>0.00</td>\n",
       "      <td>1.0</td>\n",
       "      <td>N</td>\n",
       "      <td>71</td>\n",
       "      <td>71</td>\n",
       "      <td>4</td>\n",
       "      <td>-3.0</td>\n",
       "      <td>-1.00</td>\n",
       "      <td>-0.5</td>\n",
       "      <td>0.0</td>\n",
       "      <td>0.0</td>\n",
       "      <td>-1.0</td>\n",
       "      <td>-5.50</td>\n",
       "      <td>0.0</td>\n",
       "      <td>0.00</td>\n",
       "    </tr>\n",
       "    <tr>\n",
       "      <th>2</th>\n",
       "      <td>2</td>\n",
       "      <td>2023-02-01 00:35:16</td>\n",
       "      <td>2023-02-01 00:35:30</td>\n",
       "      <td>1.0</td>\n",
       "      <td>0.00</td>\n",
       "      <td>1.0</td>\n",
       "      <td>N</td>\n",
       "      <td>71</td>\n",
       "      <td>71</td>\n",
       "      <td>4</td>\n",
       "      <td>3.0</td>\n",
       "      <td>1.00</td>\n",
       "      <td>0.5</td>\n",
       "      <td>0.0</td>\n",
       "      <td>0.0</td>\n",
       "      <td>1.0</td>\n",
       "      <td>5.50</td>\n",
       "      <td>0.0</td>\n",
       "      <td>0.00</td>\n",
       "    </tr>\n",
       "    <tr>\n",
       "      <th>3</th>\n",
       "      <td>1</td>\n",
       "      <td>2023-02-01 00:29:33</td>\n",
       "      <td>2023-02-01 01:01:38</td>\n",
       "      <td>0.0</td>\n",
       "      <td>18.80</td>\n",
       "      <td>1.0</td>\n",
       "      <td>N</td>\n",
       "      <td>132</td>\n",
       "      <td>26</td>\n",
       "      <td>1</td>\n",
       "      <td>70.9</td>\n",
       "      <td>2.25</td>\n",
       "      <td>0.5</td>\n",
       "      <td>0.0</td>\n",
       "      <td>0.0</td>\n",
       "      <td>1.0</td>\n",
       "      <td>74.65</td>\n",
       "      <td>0.0</td>\n",
       "      <td>1.25</td>\n",
       "    </tr>\n",
       "    <tr>\n",
       "      <th>4</th>\n",
       "      <td>2</td>\n",
       "      <td>2023-02-01 00:12:28</td>\n",
       "      <td>2023-02-01 00:25:46</td>\n",
       "      <td>1.0</td>\n",
       "      <td>3.22</td>\n",
       "      <td>1.0</td>\n",
       "      <td>N</td>\n",
       "      <td>161</td>\n",
       "      <td>145</td>\n",
       "      <td>1</td>\n",
       "      <td>17.0</td>\n",
       "      <td>1.00</td>\n",
       "      <td>0.5</td>\n",
       "      <td>3.3</td>\n",
       "      <td>0.0</td>\n",
       "      <td>1.0</td>\n",
       "      <td>25.30</td>\n",
       "      <td>2.5</td>\n",
       "      <td>0.00</td>\n",
       "    </tr>\n",
       "  </tbody>\n",
       "</table>\n",
       "</div>"
      ],
      "text/plain": [
       "   VendorID tpep_pickup_datetime tpep_dropoff_datetime  passenger_count  \\\n",
       "0         1  2023-02-01 00:32:53   2023-02-01 00:34:34              2.0   \n",
       "1         2  2023-02-01 00:35:16   2023-02-01 00:35:30              1.0   \n",
       "2         2  2023-02-01 00:35:16   2023-02-01 00:35:30              1.0   \n",
       "3         1  2023-02-01 00:29:33   2023-02-01 01:01:38              0.0   \n",
       "4         2  2023-02-01 00:12:28   2023-02-01 00:25:46              1.0   \n",
       "\n",
       "   trip_distance  RatecodeID store_and_fwd_flag  PULocationID  DOLocationID  \\\n",
       "0           0.30         1.0                  N           142           163   \n",
       "1           0.00         1.0                  N            71            71   \n",
       "2           0.00         1.0                  N            71            71   \n",
       "3          18.80         1.0                  N           132            26   \n",
       "4           3.22         1.0                  N           161           145   \n",
       "\n",
       "   payment_type  fare_amount  extra  mta_tax  tip_amount  tolls_amount  \\\n",
       "0             2          4.4   3.50      0.5         0.0           0.0   \n",
       "1             4         -3.0  -1.00     -0.5         0.0           0.0   \n",
       "2             4          3.0   1.00      0.5         0.0           0.0   \n",
       "3             1         70.9   2.25      0.5         0.0           0.0   \n",
       "4             1         17.0   1.00      0.5         3.3           0.0   \n",
       "\n",
       "   improvement_surcharge  total_amount  congestion_surcharge  Airport_fee  \n",
       "0                    1.0          9.40                   2.5         0.00  \n",
       "1                   -1.0         -5.50                   0.0         0.00  \n",
       "2                    1.0          5.50                   0.0         0.00  \n",
       "3                    1.0         74.65                   0.0         1.25  \n",
       "4                    1.0         25.30                   2.5         0.00  "
      ]
     },
     "metadata": {},
     "output_type": "display_data"
    }
   ],
   "source": [
    "# Test data \n",
    "test_df = pd.read_parquet(r'https://d37ci6vzurychx.cloudfront.net/trip-data/yellow_tripdata_2023-02.parquet')\n",
    "display(test_df.head())"
   ]
  },
  {
   "cell_type": "markdown",
   "id": "5fdffa9b",
   "metadata": {},
   "source": [
    "### Why Do We Use `transform()` Instead of `fit_transform()` on Test Data?\n",
    "\n",
    "When evaluating a machine learning model on test data, it is critical to avoid **data leakage** — that is, letting information from the test set influence the training process.\n",
    "\n",
    "#### ✅ `fit_transform()`:\n",
    "- This method **fits** the vectorizer (learns the feature mapping) and then **transforms** the data.\n",
    "- If we run `fit_transform()` on the test data, we allow it to learn a new feature space based on unseen data, which **violates the principles of proper model evaluation**.\n",
    "- This leads to **inconsistent feature mappings** between training and testing data, potentially causing incorrect or misleading results.\n",
    "\n",
    "#### ✅ `transform()`:\n",
    "- This method uses the **already learned feature mapping** from the training data.\n",
    "- It ensures the model evaluates test data **under the same conditions** as it was trained.\n",
    "- This is essential for a **fair and valid evaluation** of model performance.\n",
    "\n",
    "In short, we use:\n",
    "\n",
    "- `fit_transform()` on training data\n",
    "- `transform()` on test data\n",
    "\n",
    "to ensure the model is evaluated realistically and without bias.\n"
   ]
  },
  {
   "cell_type": "markdown",
   "id": "316d9672",
   "metadata": {},
   "source": [
    "Always call .copy() after filtering a DataFrame if plan to modify it later."
   ]
  },
  {
   "cell_type": "code",
   "execution_count": 12,
   "id": "fa336b0a",
   "metadata": {},
   "outputs": [
    {
     "name": "stdout",
     "output_type": "stream",
     "text": [
      "Test RMSE: 7.808398466759152\n"
     ]
    }
   ],
   "source": [
    "test_df = test_df.copy()  # Safe: ensures it's a new, independent copy\n",
    "\n",
    "# With chaining\n",
    "# test_df = test_df.loc[:, :].copy()\n",
    "\n",
    "# Compute duration\n",
    "test_df['duration'] = test_df['tpep_dropoff_datetime'] - test_df['tpep_pickup_datetime']\n",
    "\n",
    "# Filter unreasonable durations\n",
    "test_df = test_df[(test_df['duration'].dt.total_seconds() / 60 < 60) & (test_df['duration'].dt.total_seconds() / 60 > 1)]\n",
    "\n",
    "# Convert location IDs to strings\n",
    "test_df['PULocationID'] = test_df['PULocationID'].astype(str)\n",
    "test_df['DOLocationID'] = test_df['DOLocationID'].astype(str)\n",
    "\n",
    "# Transform features using the already-fitted DictVectorizer\n",
    "X_test = dv.transform(test_df[['PULocationID', 'DOLocationID']].to_dict(orient='records'))\n",
    "\n",
    "# Extract target values\n",
    "y_test = test_df['duration'].dt.total_seconds() / 60\n",
    "\n",
    "# Predict and calculate RMSE\n",
    "y_pred_test = model.predict(X_test)\n",
    "rmse_test = np.sqrt(mean_squared_error(y_test, y_pred_test))\n",
    "\n",
    "print('Test RMSE:', rmse_test)"
   ]
  },
  {
   "cell_type": "code",
   "execution_count": null,
   "id": "902ac1ad",
   "metadata": {},
   "outputs": [],
   "source": []
  }
 ],
 "metadata": {
  "kernelspec": {
   "display_name": "Python 3",
   "language": "python",
   "name": "python3"
  },
  "language_info": {
   "codemirror_mode": {
    "name": "ipython",
    "version": 3
   },
   "file_extension": ".py",
   "mimetype": "text/x-python",
   "name": "python",
   "nbconvert_exporter": "python",
   "pygments_lexer": "ipython3",
   "version": "3.12.1"
  }
 },
 "nbformat": 4,
 "nbformat_minor": 5
}
